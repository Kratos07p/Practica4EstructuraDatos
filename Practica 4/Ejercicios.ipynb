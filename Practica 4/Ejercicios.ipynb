{
 "cells": [
  {
   "cell_type": "code",
   "execution_count": null,
   "metadata": {},
   "outputs": [],
   "source": [
    "'''Utilizando diccionarios crear un programa que permita ingresar n estudiantes,\n",
    "utilizar el primer nombre del estudiante como clave del diccionario y el valor serán\n",
    "una lista con las notas de los tres cómputos de un semestre, ademas implementar su promedio. Al finalizar mostrara\n",
    "al usuario en formato de tabla los datos ingresados y su promedio.'''\n",
    "\n",
    "num_estudiantes = int(input(\"Ingrese cuantos estudiantes desea ingresar: \"))\n",
    "\n",
    "resultado = {}\n",
    "\n",
    "for i in range(0, num_estudiantes):\n",
    "    print(\"\")\n",
    "    print(\"-------Ingresando datos de estudiantes-------\")\n",
    "    nombre = input(f\"Ingresando el nombre del estudiante N{i+1}°: \")\n",
    "    notas = []\n",
    "\n",
    "    for j in range (0,3):\n",
    "        nota = float(input(f\"Ingrese la nota N{j + 1}°: \"))\n",
    "        notas.append(nota)\n",
    "\n",
    "    resultado.setdefault(nombre,notas)\n",
    "\n",
    "print(\"Nombre    |Nota 1     |Nota 2     |Nota 3     |Promedio\")\n",
    "for nombre,notas in resultado.items():\n",
    "    print(\"_\" * 55)\n",
    "    fila = nombre.ljust(10)\n",
    "    for nota in notas:\n",
    "        fila += \"| \" + str(nota).ljust(10)\n",
    "    fila += \"| \"+str(round((sum(notas) / len(notas)),2)).ljust(10)\n",
    "    print(fila)"
   ]
  },
  {
   "cell_type": "code",
   "execution_count": null,
   "metadata": {},
   "outputs": [],
   "source": [
    "'''Crear un diccionario que contenga los nombres y precios de productos, el usuario\n",
    "deberá ingresar el nombre y cantidad de un producto y el programa mostrara el\n",
    "total a pagar, si el producto no se encuentra en el diccionario indicar al usuario\n",
    "que el producto no se encuentra disponible'''\n",
    "\n",
    "productos = {\"Coca Cola\": 0.85, \"Doritos\": 0.25, \"Arroz Blanco\": 2.00, \"Frijoles\": 2.00, \"Queso\": 5.00}\n",
    "\n",
    "print(\"--------------------------Tienda Los Suspendidos--------------------------\")\n",
    "print(\"Productos Disponible: Coca Cola, Doritos, Arroz Blanco, Frijoles, Queso.\")\n",
    "\n",
    "producto = input(\"Ingrese El Producto Que Desee Comprar: \")\n",
    "cantidad = int(input(\"Ingrese La Cantidad Que Desee Comprar: \"))\n",
    "\n",
    "if producto in productos:\n",
    "    print(\"-------------------------------------------------------\")\n",
    "    precioProducto = productos[producto]\n",
    "    totalPagar = precioProducto * cantidad\n",
    "    print(f\"Producto: {producto}\")\n",
    "    print(f\"Precio Del Producto: ${precioProducto}\")\n",
    "    print(f\"Cantidad a Comprar: {cantidad}\")\n",
    "    print(\"-------------------------------------------------------\")\n",
    "    print(f\"Total a Pagar: ${totalPagar}\")\n",
    "\n",
    "else:\n",
    "    print(\"Producto Ingresado No Se Vende En Esta Tienda\")"
   ]
  }
 ],
 "metadata": {
  "kernelspec": {
   "display_name": "Python 3",
   "language": "python",
   "name": "python3"
  },
  "language_info": {
   "codemirror_mode": {
    "name": "ipython",
    "version": 3
   },
   "file_extension": ".py",
   "mimetype": "text/x-python",
   "name": "python",
   "nbconvert_exporter": "python",
   "pygments_lexer": "ipython3",
   "version": "3.11.2"
  },
  "orig_nbformat": 4
 },
 "nbformat": 4,
 "nbformat_minor": 2
}
